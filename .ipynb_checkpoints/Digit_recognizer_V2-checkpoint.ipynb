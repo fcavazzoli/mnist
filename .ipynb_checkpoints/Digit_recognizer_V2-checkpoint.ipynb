{
 "cells": [
  {
   "cell_type": "code",
   "execution_count": 1,
   "metadata": {},
   "outputs": [
    {
     "name": "stderr",
     "output_type": "stream",
     "text": [
      "Using TensorFlow backend.\n"
     ]
    },
    {
     "data": {
      "text/plain": [
       "'2.2.4'"
      ]
     },
     "execution_count": 1,
     "metadata": {},
     "output_type": "execute_result"
    }
   ],
   "source": [
    "import keras\n",
    "keras.__version__"
   ]
  },
  {
   "cell_type": "code",
   "execution_count": 2,
   "metadata": {},
   "outputs": [],
   "source": [
    "# first neural network with keras tutorial\n",
    "from __future__ import absolute_import, division, print_function, unicode_literals\n",
    "import functools\n",
    "import pandas as pd\n",
    "import numpy as np\n",
    "import tensorflow as tf\n",
    "from keras import models\n",
    "from keras import layers\n",
    "from sklearn.model_selection import train_test_split\n",
    "from keras.utils import to_categorical"
   ]
  },
  {
   "cell_type": "code",
   "execution_count": 3,
   "metadata": {},
   "outputs": [],
   "source": [
    "# load the dataset\n",
    "train_set = pd.read_csv(\"datasets/train.csv\")\n",
    "test_set = pd.read_csv(\"datasets/test.csv\")"
   ]
  },
  {
   "cell_type": "code",
   "execution_count": 4,
   "metadata": {},
   "outputs": [],
   "source": [
    "train, test = train_test_split(train_set, test_size=0.2)"
   ]
  },
  {
   "cell_type": "code",
   "execution_count": 5,
   "metadata": {},
   "outputs": [],
   "source": [
    "train_label = train.label\n",
    "test_label = test.label"
   ]
  },
  {
   "cell_type": "code",
   "execution_count": 6,
   "metadata": {},
   "outputs": [],
   "source": [
    "train_info = train.loc[:, train.columns != 'label']\n",
    "test_info = test.loc[:, test.columns != 'label']"
   ]
  },
  {
   "cell_type": "code",
   "execution_count": 7,
   "metadata": {},
   "outputs": [
    {
     "name": "stdout",
     "output_type": "stream",
     "text": [
      "WARNING:tensorflow:From /home/fcavazzoli/anaconda3/lib/python3.7/site-packages/keras/backend/tensorflow_backend.py:74: The name tf.get_default_graph is deprecated. Please use tf.compat.v1.get_default_graph instead.\n",
      "\n",
      "WARNING:tensorflow:From /home/fcavazzoli/anaconda3/lib/python3.7/site-packages/keras/backend/tensorflow_backend.py:517: The name tf.placeholder is deprecated. Please use tf.compat.v1.placeholder instead.\n",
      "\n",
      "WARNING:tensorflow:From /home/fcavazzoli/anaconda3/lib/python3.7/site-packages/keras/backend/tensorflow_backend.py:4138: The name tf.random_uniform is deprecated. Please use tf.random.uniform instead.\n",
      "\n",
      "WARNING:tensorflow:From /home/fcavazzoli/anaconda3/lib/python3.7/site-packages/keras/backend/tensorflow_backend.py:3976: The name tf.nn.max_pool is deprecated. Please use tf.nn.max_pool2d instead.\n",
      "\n"
     ]
    }
   ],
   "source": [
    "# define the keras model\n",
    "model = models.Sequential()\n",
    "model.add(layers.Reshape((28, 28, 1), input_shape=(784,)))\n",
    "model.add(layers.Conv2D(32, (3, 3), activation='relu', input_shape=(28, 28, 1)))\n",
    "model.add(layers.MaxPooling2D((2, 2)))\n",
    "model.add(layers.Conv2D(64, (3, 3), activation='relu'))\n",
    "model.add(layers.MaxPooling2D((2, 2)))\n",
    "model.add(layers.Conv2D(64, (3, 3), activation='relu'))\n",
    "model.add(layers.Flatten())\n",
    "model.add(layers.Dense(10, activation='softmax'))"
   ]
  },
  {
   "cell_type": "code",
   "execution_count": 8,
   "metadata": {},
   "outputs": [
    {
     "name": "stdout",
     "output_type": "stream",
     "text": [
      "WARNING:tensorflow:From /home/fcavazzoli/anaconda3/lib/python3.7/site-packages/keras/optimizers.py:790: The name tf.train.Optimizer is deprecated. Please use tf.compat.v1.train.Optimizer instead.\n",
      "\n",
      "WARNING:tensorflow:From /home/fcavazzoli/anaconda3/lib/python3.7/site-packages/keras/backend/tensorflow_backend.py:3295: The name tf.log is deprecated. Please use tf.math.log instead.\n",
      "\n"
     ]
    }
   ],
   "source": [
    "# compile the keras model\n",
    "model.compile(optimizer='rmsprop',\n",
    "                loss='categorical_crossentropy',\n",
    "                metrics=['accuracy'])"
   ]
  },
  {
   "cell_type": "code",
   "execution_count": 9,
   "metadata": {},
   "outputs": [],
   "source": [
    "train_label = to_categorical(train_label)\n",
    "test_label = to_categorical(test_label)"
   ]
  },
  {
   "cell_type": "code",
   "execution_count": 10,
   "metadata": {},
   "outputs": [],
   "source": [
    "train_info = train_info / 255\n",
    "test_info = test_info / 255"
   ]
  },
  {
   "cell_type": "code",
   "execution_count": 11,
   "metadata": {},
   "outputs": [
    {
     "data": {
      "text/plain": [
       "(33600, 784)"
      ]
     },
     "execution_count": 11,
     "metadata": {},
     "output_type": "execute_result"
    }
   ],
   "source": [
    "train_info.shape"
   ]
  },
  {
   "cell_type": "code",
   "execution_count": 12,
   "metadata": {},
   "outputs": [
    {
     "data": {
      "text/plain": [
       "(33600, 10)"
      ]
     },
     "execution_count": 12,
     "metadata": {},
     "output_type": "execute_result"
    }
   ],
   "source": [
    "train_label.shape"
   ]
  },
  {
   "cell_type": "code",
   "execution_count": 13,
   "metadata": {},
   "outputs": [
    {
     "name": "stdout",
     "output_type": "stream",
     "text": [
      "_________________________________________________________________\n",
      "Layer (type)                 Output Shape              Param #   \n",
      "=================================================================\n",
      "reshape_1 (Reshape)          (None, 28, 28, 1)         0         \n",
      "_________________________________________________________________\n",
      "conv2d_1 (Conv2D)            (None, 26, 26, 32)        320       \n",
      "_________________________________________________________________\n",
      "max_pooling2d_1 (MaxPooling2 (None, 13, 13, 32)        0         \n",
      "_________________________________________________________________\n",
      "conv2d_2 (Conv2D)            (None, 11, 11, 64)        18496     \n",
      "_________________________________________________________________\n",
      "max_pooling2d_2 (MaxPooling2 (None, 5, 5, 64)          0         \n",
      "_________________________________________________________________\n",
      "conv2d_3 (Conv2D)            (None, 3, 3, 64)          36928     \n",
      "_________________________________________________________________\n",
      "flatten_1 (Flatten)          (None, 576)               0         \n",
      "_________________________________________________________________\n",
      "dense_1 (Dense)              (None, 10)                5770      \n",
      "=================================================================\n",
      "Total params: 61,514\n",
      "Trainable params: 61,514\n",
      "Non-trainable params: 0\n",
      "_________________________________________________________________\n"
     ]
    }
   ],
   "source": [
    "model.summary()"
   ]
  },
  {
   "cell_type": "code",
   "execution_count": 14,
   "metadata": {},
   "outputs": [],
   "source": [
    "epochs_number = 20"
   ]
  },
  {
   "cell_type": "code",
   "execution_count": 24,
   "metadata": {},
   "outputs": [
    {
     "name": "stdout",
     "output_type": "stream",
     "text": [
      "Train on 33600 samples, validate on 8400 samples\n",
      "Epoch 1/20\n",
      "33600/33600 [==============================] - 4s 128us/step - loss: 0.0064 - acc: 0.9977 - val_loss: 0.1119 - val_acc: 0.9774\n",
      "Epoch 2/20\n",
      "33600/33600 [==============================] - 6s 192us/step - loss: 0.0063 - acc: 0.9978 - val_loss: 0.0636 - val_acc: 0.9861\n",
      "Epoch 3/20\n",
      "33600/33600 [==============================] - 6s 191us/step - loss: 0.0064 - acc: 0.9982 - val_loss: 0.0617 - val_acc: 0.9873\n",
      "Epoch 4/20\n",
      "33600/33600 [==============================] - 4s 130us/step - loss: 0.0054 - acc: 0.9983 - val_loss: 0.0625 - val_acc: 0.9863\n",
      "Epoch 5/20\n",
      "33600/33600 [==============================] - 4s 134us/step - loss: 0.0049 - acc: 0.9984 - val_loss: 0.0731 - val_acc: 0.9861\n",
      "Epoch 6/20\n",
      "33600/33600 [==============================] - 4s 132us/step - loss: 0.0047 - acc: 0.9986 - val_loss: 0.0863 - val_acc: 0.9836\n",
      "Epoch 7/20\n",
      "33600/33600 [==============================] - 4s 131us/step - loss: 0.0050 - acc: 0.9986 - val_loss: 0.0630 - val_acc: 0.9882\n",
      "Epoch 8/20\n",
      "33600/33600 [==============================] - 4s 133us/step - loss: 0.0039 - acc: 0.9989 - val_loss: 0.0610 - val_acc: 0.9883\n",
      "Epoch 9/20\n",
      "33600/33600 [==============================] - 4s 132us/step - loss: 0.0043 - acc: 0.9987 - val_loss: 0.0670 - val_acc: 0.9876\n",
      "Epoch 10/20\n",
      "33600/33600 [==============================] - 4s 134us/step - loss: 0.0038 - acc: 0.9988 - val_loss: 0.0605 - val_acc: 0.9885\n",
      "Epoch 11/20\n",
      "33600/33600 [==============================] - 4s 133us/step - loss: 0.0031 - acc: 0.9990 - val_loss: 0.0701 - val_acc: 0.9874\n",
      "Epoch 12/20\n",
      "33600/33600 [==============================] - 5s 134us/step - loss: 0.0036 - acc: 0.9990 - val_loss: 0.0845 - val_acc: 0.9858\n",
      "Epoch 13/20\n",
      "33600/33600 [==============================] - 5s 134us/step - loss: 0.0037 - acc: 0.9990 - val_loss: 0.0761 - val_acc: 0.9862\n",
      "Epoch 14/20\n",
      "33600/33600 [==============================] - 5s 135us/step - loss: 0.0028 - acc: 0.9993 - val_loss: 0.0700 - val_acc: 0.9879\n",
      "Epoch 15/20\n",
      "33600/33600 [==============================] - 5s 136us/step - loss: 0.0037 - acc: 0.9989 - val_loss: 0.0709 - val_acc: 0.9887\n",
      "Epoch 16/20\n",
      "33600/33600 [==============================] - 5s 141us/step - loss: 0.0035 - acc: 0.9990 - val_loss: 0.0653 - val_acc: 0.9886\n",
      "Epoch 17/20\n",
      "33600/33600 [==============================] - 5s 136us/step - loss: 0.0024 - acc: 0.9993 - val_loss: 0.0678 - val_acc: 0.9890\n",
      "Epoch 18/20\n",
      "33600/33600 [==============================] - 5s 136us/step - loss: 0.0026 - acc: 0.9993 - val_loss: 0.0744 - val_acc: 0.9886\n",
      "Epoch 19/20\n",
      "33600/33600 [==============================] - 5s 136us/step - loss: 0.0033 - acc: 0.9993 - val_loss: 0.0730 - val_acc: 0.9880\n",
      "Epoch 20/20\n",
      "33600/33600 [==============================] - 5s 138us/step - loss: 0.0026 - acc: 0.9993 - val_loss: 0.0731 - val_acc: 0.9883\n"
     ]
    }
   ],
   "source": [
    "# fit the keras model on the dataset\n",
    "callbacks_history = model.fit(train_info, train_label, epochs=epochs_number, batch_size=250, validation_data=(test_info, test_label))"
   ]
  },
  {
   "cell_type": "code",
   "execution_count": 25,
   "metadata": {},
   "outputs": [
    {
     "name": "stdout",
     "output_type": "stream",
     "text": [
      "8400/8400 [==============================] - 0s 39us/step\n",
      "Accuracy: 98.83\n"
     ]
    }
   ],
   "source": [
    "# evaluate the keras model\n",
    "_, accuracy = model.evaluate(test_info, test_label)\n",
    "print('Accuracy: %.2f' % (accuracy*100))"
   ]
  },
  {
   "cell_type": "code",
   "execution_count": 27,
   "metadata": {},
   "outputs": [
    {
     "data": {
      "text/plain": [
       "dict_keys(['val_loss', 'val_acc', 'loss', 'acc'])"
      ]
     },
     "execution_count": 27,
     "metadata": {},
     "output_type": "execute_result"
    }
   ],
   "source": [
    "callbacks_history.history.keys()"
   ]
  },
  {
   "cell_type": "code",
   "execution_count": null,
   "metadata": {},
   "outputs": [],
   "source": [
    "acc = callbacks_history.history['acc']\n",
    "val = callbacks_history.history['val_acc']\n",
    "loss = callbacks_history.history['loss']\n",
    "val_loss = callbacks_history.history['val_loss']"
   ]
  },
  {
   "cell_type": "code",
   "execution_count": 26,
   "metadata": {},
   "outputs": [
    {
     "data": {
      "image/png": "[encoded data removed]",
      "text/plain": [
       "<Figure size 432x288 with 1 Axes>"
      ]
     },
     "metadata": {
      "needs_background": "light"
     },
     "output_type": "display_data"
    }
   ],
   "source": [
    "import matplotlib.pyplot as plt\n",
    "epochs = range(1,epochs_number+1)\n",
    "\n",
    "plt.clf()   # clear figure\n",
    "\n",
    "plt.plot(epochs, acc, 'bo', label='Training acc')\n",
    "plt.plot(epochs, val, 'b', label='Validation acc')\n",
    "plt.title('Training and validation accuracy')\n",
    "plt.xlabel('Epochs')\n",
    "plt.ylabel('Loss')\n",
    "plt.legend()\n",
    "\n",
    "plt.show()"
   ]
  },
  {
   "cell_type": "code",
   "execution_count": null,
   "metadata": {},
   "outputs": [],
   "source": [
    "# \"bo\" is for \"blue dot\"\n",
    "plt.plot(epochs, loss, 'bo', label='Training loss')\n",
    "# b is for \"solid blue line\"\n",
    "plt.plot(epochs, val_loss, 'b', label='Validation loss')\n",
    "plt.title('Training and validation loss')\n",
    "plt.xlabel('Epochs')\n",
    "plt.ylabel('Loss')\n",
    "plt.legend()\n",
    "\n",
    "plt.show()"
   ]
  },
  {
   "cell_type": "code",
   "execution_count": null,
   "metadata": {},
   "outputs": [],
   "source": []
  }
 ],
 "metadata": {
  "kernelspec": {
   "display_name": "Python 3",
   "language": "python",
   "name": "python3"
  },
  "language_info": {
   "codemirror_mode": {
    "name": "ipython",
    "version": 3
   },
   "file_extension": ".py",
   "mimetype": "text/x-python",
   "name": "python",
   "nbconvert_exporter": "python",
   "pygments_lexer": "ipython3",
   "version": "3.7.3"
  }
 },
 "nbformat": 4,
 "nbformat_minor": 2
}
