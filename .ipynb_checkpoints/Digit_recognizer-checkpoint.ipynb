{
 "cells": [
  {
   "cell_type": "markdown",
   "metadata": {},
   "source": [
    "# Data Augmentation"
   ]
  },
  {
   "cell_type": "markdown",
   "metadata": {},
   "source": [
    "## Que es ?\n",
    "  Son una serie de tecnicas destinadas a aumentar la cantidad de datos disponibles para entrenar distintos algoritmos de Machine Learning."
   ]
  },
  {
   "cell_type": "markdown",
   "metadata": {},
   "source": [
    "## Por que es util ?\n",
    " - Aumentan la cantidad de datos disponibles para entrenar un algoritmo, bien utilizada esta tecnica nos ayuda a:\n",
    "        - Prevenir el overfitting: Al tener una mayor cantidad de casos de \"estudio\" para nuestro algoritmo, este va a aprender a diferenciar una mayor cantidad de casos posibles. Pero con la diferencia de que estos nuevos datos pueden ser movificados a nuestro gusto, por ejemplo: Podemos añadir distorsion a un determinado grupo de imagenes o tambien rotarlas.\n",
    "        - Agilizar la implementacion: Como estas tecnicas son aplicadas sobre datos que ya tenemos clasificados, su nueva permutacion se espera que tenga la misma clasificacion. De esta manera si aplicamos a cada imagen de un grupo de 100 un efecto de distorsion y lo añadimos a nuestro dataset, estamos duplicando el tamaño del set de entrenamiento."
   ]
  },
  {
   "cell_type": "code",
   "execution_count": 3,
   "metadata": {},
   "outputs": [],
   "source": [
    "from IPython.display import Image"
   ]
  },
  {
   "cell_type": "markdown",
   "metadata": {},
   "source": [
    "![title](img/perrito.png)"
   ]
  },
  {
   "cell_type": "markdown",
   "metadata": {},
   "source": [
    "![title](img/gatito.png)"
   ]
  },
  {
   "cell_type": "markdown",
   "metadata": {},
   "source": [
    "## Ejemplo: "
   ]
  },
  {
   "cell_type": "markdown",
   "metadata": {},
   "source": [
    "Para la prueba vamos a utilizar un dataset muy conocido llamado Minst. El cual contiene miles de digitos del 0 al 9 y el objetivo es obviamente, clasificar las imagenes."
   ]
  },
  {
   "cell_type": "markdown",
   "metadata": {},
   "source": [
    "### Implementacion:\n",
    " - Keras: Libreria que usamos para crear una red neuronal y ademas utilizar herramientas de pre-procesamiento (usan de fondo TensorFlow)\n",
    " - sklearn: Libreria con multiples herramientas para tratar la data a entrenar (ademas posee algorimos de Machine Learning, incluso una version reducida de una red neuronal)\n",
    " - Pandas: Libreria que usamos para leer el dataset que tiene formato CSV y pasamos a formato DataFrame para poder trabajarlo.\n",
    " - Numpy: Libreria por excelencia para hacer cuentas en Python\n",
    " - matPlotLib: Libreria para graficar"
   ]
  },
  {
   "cell_type": "code",
   "execution_count": 4,
   "metadata": {},
   "outputs": [
    {
     "name": "stderr",
     "output_type": "stream",
     "text": [
      "Using TensorFlow backend.\n"
     ]
    }
   ],
   "source": [
    "import pandas as pd\n",
    "import numpy as np\n",
    "from keras.datasets import mnist\n",
    "from keras.models import Sequential\n",
    "from keras.layers import Dense\n",
    "from keras.utils import np_utils\n",
    "from matplotlib import pyplot\n",
    "import pandas as pd\n",
    "from sklearn.model_selection import train_test_split\n",
    "from keras.datasets import mnist\n",
    "from keras.preprocessing.image import ImageDataGenerator\n",
    "from matplotlib import pyplot\n",
    "from keras import backend as K"
   ]
  },
  {
   "cell_type": "markdown",
   "metadata": {},
   "source": [
    "Leemos los datos de los datasets y los guardamos como DataFrames"
   ]
  },
  {
   "cell_type": "code",
   "execution_count": 5,
   "metadata": {},
   "outputs": [],
   "source": [
    "(X_train, y_train), (X_test, y_test) = mnist.load_data()"
   ]
  },
  {
   "cell_type": "markdown",
   "metadata": {},
   "source": [
    "Definimos el tamaño que tienen nuestras imagenes\n",
    "Es un vector de 28*28 = 784 para cada imagen"
   ]
  },
  {
   "cell_type": "code",
   "execution_count": 6,
   "metadata": {},
   "outputs": [],
   "source": [
    "num_pixels = X_train.shape[1] * X_train.shape[2]\n",
    "X_train = X_train.reshape((X_train.shape[0], num_pixels)).astype('float32')\n",
    "X_test = X_test.reshape((X_test.shape[0], num_pixels)).astype('float32')"
   ]
  },
  {
   "cell_type": "markdown",
   "metadata": {},
   "source": [
    "Normalizamos los datos (que van originalmente de 0 a 255)"
   ]
  },
  {
   "cell_type": "code",
   "execution_count": 7,
   "metadata": {},
   "outputs": [],
   "source": [
    "X_train = X_train / 255\n",
    "X_test = X_test / 255"
   ]
  },
  {
   "cell_type": "markdown",
   "metadata": {},
   "source": [
    "Configuramos los valores de salida, van del 0 al 9 entonces usamos 10 columnas y le ponemos un 1 al valor que corresponda"
   ]
  },
  {
   "cell_type": "code",
   "execution_count": 8,
   "metadata": {},
   "outputs": [],
   "source": [
    "y_train = np_utils.to_categorical(y_train)\n",
    "y_test = np_utils.to_categorical(y_test)\n",
    "num_classes = y_test.shape[1]"
   ]
  },
  {
   "cell_type": "markdown",
   "metadata": {},
   "source": [
    "Definimos un modelo, es decir las capas que tendra nuestra red neuronal."
   ]
  },
  {
   "cell_type": "code",
   "execution_count": 9,
   "metadata": {},
   "outputs": [],
   "source": [
    "def baseline_model():\n",
    "\tmodel = Sequential()\n",
    "\tmodel.add(Dense(num_pixels, input_dim=num_pixels, kernel_initializer='normal', activation='relu'))\n",
    "\tmodel.add(Dense(num_classes, kernel_initializer='normal', activation='softmax'))\n",
    "\tmodel.compile(loss='categorical_crossentropy', optimizer='adam', metrics=['accuracy'])\n",
    "\treturn model"
   ]
  },
  {
   "cell_type": "markdown",
   "metadata": {},
   "source": [
    "Llamamos a la funcion que crea el modelo"
   ]
  },
  {
   "cell_type": "code",
   "execution_count": 10,
   "metadata": {},
   "outputs": [],
   "source": [
    "model = baseline_model()"
   ]
  },
  {
   "cell_type": "markdown",
   "metadata": {},
   "source": [
    "Entrenamos el modelo con parametros estandar:"
   ]
  },
  {
   "cell_type": "code",
   "execution_count": 11,
   "metadata": {},
   "outputs": [
    {
     "name": "stdout",
     "output_type": "stream",
     "text": [
      "Train on 60000 samples, validate on 10000 samples\n",
      "Epoch 1/10\n",
      " - 28s - loss: 0.2768 - accuracy: 0.9205 - val_loss: 0.1367 - val_accuracy: 0.9605\n",
      "Epoch 2/10\n",
      " - 35s - loss: 0.1107 - accuracy: 0.9675 - val_loss: 0.0944 - val_accuracy: 0.9715\n",
      "Epoch 3/10\n",
      " - 31s - loss: 0.0712 - accuracy: 0.9796 - val_loss: 0.0783 - val_accuracy: 0.9770\n",
      "Epoch 4/10\n",
      " - 38s - loss: 0.0498 - accuracy: 0.9859 - val_loss: 0.0645 - val_accuracy: 0.9803\n",
      "Epoch 5/10\n",
      " - 38s - loss: 0.0364 - accuracy: 0.9900 - val_loss: 0.0666 - val_accuracy: 0.9787\n",
      "Epoch 6/10\n",
      " - 38s - loss: 0.0260 - accuracy: 0.9933 - val_loss: 0.0616 - val_accuracy: 0.9808\n",
      "Epoch 7/10\n",
      " - 36s - loss: 0.0188 - accuracy: 0.9956 - val_loss: 0.0615 - val_accuracy: 0.9810\n",
      "Epoch 8/10\n",
      " - 37s - loss: 0.0146 - accuracy: 0.9967 - val_loss: 0.0591 - val_accuracy: 0.9816\n",
      "Epoch 9/10\n",
      " - 34s - loss: 0.0102 - accuracy: 0.9981 - val_loss: 0.0588 - val_accuracy: 0.9822\n",
      "Epoch 10/10\n",
      " - 38s - loss: 0.0079 - accuracy: 0.9985 - val_loss: 0.0582 - val_accuracy: 0.9828\n"
     ]
    },
    {
     "data": {
      "text/plain": [
       "<keras.callbacks.callbacks.History at 0x7fb0a361f250>"
      ]
     },
     "execution_count": 11,
     "metadata": {},
     "output_type": "execute_result"
    }
   ],
   "source": [
    "model.fit(X_train, y_train, validation_data=(X_test, y_test), epochs=10, batch_size=200, verbose=2)"
   ]
  },
  {
   "cell_type": "markdown",
   "metadata": {},
   "source": [
    "Evaluamos el resultado:"
   ]
  },
  {
   "cell_type": "code",
   "execution_count": 12,
   "metadata": {},
   "outputs": [
    {
     "name": "stdout",
     "output_type": "stream",
     "text": [
      "Baseline Error: 1.72%\n"
     ]
    }
   ],
   "source": [
    "scores = model.evaluate(X_test, y_test, verbose=0)\n",
    "print(\"Baseline Error: %.2f%%\" % (100-scores[1]*100))"
   ]
  },
  {
   "cell_type": "code",
   "execution_count": 13,
   "metadata": {},
   "outputs": [],
   "source": [
    "X_train_ref, y_train_ref, X_test_ref, y_test_ref = X_train, y_train, X_test, y_test"
   ]
  },
  {
   "cell_type": "markdown",
   "metadata": {},
   "source": [
    "## Aumentando nuestro Dataset"
   ]
  },
  {
   "cell_type": "markdown",
   "metadata": {},
   "source": [
    "Vamos a tomar por ejemplo la primera fila de nuestro dataset y vamos a plotearla para ver de que numero se trata:"
   ]
  },
  {
   "cell_type": "code",
   "execution_count": 14,
   "metadata": {},
   "outputs": [],
   "source": [
    "train_set = pd.read_csv(\"datasets/train.csv\")\n",
    "test_set = pd.read_csv(\"datasets/test.csv\")"
   ]
  },
  {
   "cell_type": "code",
   "execution_count": 15,
   "metadata": {},
   "outputs": [],
   "source": [
    "train_info = train_set.loc[:, train_set.columns != 'label']\n",
    "test_info = test_set.loc[:, test_set.columns != 'label']\n",
    "train, test = train_test_split(train_set, test_size=0.2)\n",
    "train_label = train.label\n",
    "test_label = test.label\n",
    "train_info = train.loc[:, train.columns != 'label']\n",
    "test_info = test.loc[:, test.columns != 'label']"
   ]
  },
  {
   "cell_type": "code",
   "execution_count": 16,
   "metadata": {},
   "outputs": [
    {
     "data": {
      "image/png": "[encoded data removed]",
      "text/plain": [
       "<Figure size 432x288 with 9 Axes>"
      ]
     },
     "metadata": {
      "needs_background": "light"
     },
     "output_type": "display_data"
    }
   ],
   "source": [
    "for i in range(0, 9):\n",
    "    pyplot.subplot(330 + 1 + i)\n",
    "    train_info = train_set.loc[:, train_set.columns != 'label']\n",
    "    pyplot.imshow(train_info[i:i+1].values.reshape(28,28), cmap=pyplot.get_cmap('gray'))\n",
    "pyplot.show()"
   ]
  },
  {
   "cell_type": "markdown",
   "metadata": {},
   "source": [
    "### ZCA Whitening"
   ]
  },
  {
   "cell_type": "code",
   "execution_count": 17,
   "metadata": {},
   "outputs": [
    {
     "name": "stderr",
     "output_type": "stream",
     "text": [
      "/Users/federicocavazzoli/opt/anaconda3/envs/Fede/lib/python3.7/site-packages/keras_preprocessing/image/image_data_generator.py:336: UserWarning: This ImageDataGenerator specifies `zca_whitening`, which overrides setting of `featurewise_center`.\n",
      "  warnings.warn('This ImageDataGenerator specifies '\n",
      "/Users/federicocavazzoli/opt/anaconda3/envs/Fede/lib/python3.7/site-packages/keras_preprocessing/image/image_data_generator.py:940: UserWarning: Expected input to be images (as Numpy array) following the data format convention \"channels_last\" (channels on axis 3), i.e. expected either 1, 3 or 4 channels on axis 3. However, it was passed an array with shape (60000, 1, 28, 28) (28 channels).\n",
      "  ' channels).')\n",
      "/Users/federicocavazzoli/opt/anaconda3/envs/Fede/lib/python3.7/site-packages/keras_preprocessing/image/numpy_array_iterator.py:127: UserWarning: NumpyArrayIterator is set to use the data format convention \"channels_last\" (channels on axis 3), i.e. expected either 1, 3, or 4 channels on axis 3. However, it was passed an array with shape (60000, 1, 28, 28) (28 channels).\n",
      "  str(self.x.shape[channels_axis]) + ' channels).')\n"
     ]
    },
    {
     "data": {
      "image/png": "[encoded data removed]",
      "text/plain": [
       "<Figure size 432x288 with 9 Axes>"
      ]
     },
     "metadata": {
      "needs_background": "light"
     },
     "output_type": "display_data"
    }
   ],
   "source": [
    "K.image_data_format()\n",
    "# load data\n",
    "(X_train, y_train), (X_test, y_test) = mnist.load_data()\n",
    "# reshape to be [samples][pixels][width][height]\n",
    "X_train = X_train.reshape(X_train.shape[0], 1, 28, 28)\n",
    "X_test = X_test.reshape(X_test.shape[0], 1, 28, 28)\n",
    "# convert from int to float\n",
    "X_train = X_train.astype('float32')\n",
    "X_test = X_test.astype('float32')\n",
    "# define data preparation\n",
    "datagen = ImageDataGenerator(zca_whitening=True)\n",
    "# fit parameters from data\n",
    "datagen.fit(X_train)\n",
    "# configure batch size and retrieve one batch of images\n",
    "for X_batch, y_batch in datagen.flow(X_train, y_train, batch_size=9):\n",
    "\t# create a grid of 3x3 images\n",
    "\tfor i in range(0, 9):\n",
    "\t\tpyplot.subplot(330 + 1 + i)\n",
    "\t\tpyplot.imshow(X_batch[i].reshape(28, 28), cmap=pyplot.get_cmap('gray'))\n",
    "\t# show the plot\n",
    "\tpyplot.show()\n",
    "\tbreak"
   ]
  },
  {
   "cell_type": "code",
   "execution_count": 18,
   "metadata": {},
   "outputs": [],
   "source": [
    "num_pixels = 28*28\n",
    "X_train = X_train.reshape((X_train.shape[0], num_pixels)).astype('float32')\n",
    "X_test = X_test.reshape((X_test.shape[0], num_pixels)).astype('float32')\n",
    "y_train = np_utils.to_categorical(y_train)\n",
    "y_test = np_utils.to_categorical(y_test)\n",
    "num_classes = y_test.shape[1]"
   ]
  },
  {
   "cell_type": "code",
   "execution_count": 19,
   "metadata": {},
   "outputs": [
    {
     "name": "stdout",
     "output_type": "stream",
     "text": [
      "Train on 60000 samples, validate on 10000 samples\n",
      "Epoch 1/10\n",
      " - 41s - loss: 7.9835 - accuracy: 0.9791 - val_loss: 9.3026 - val_accuracy: 0.9750\n",
      "Epoch 2/10\n",
      " - 39s - loss: 1.5824 - accuracy: 0.9912 - val_loss: 7.4655 - val_accuracy: 0.9779\n",
      "Epoch 3/10\n",
      " - 25s - loss: 0.6876 - accuracy: 0.9949 - val_loss: 7.0837 - val_accuracy: 0.9783\n",
      "Epoch 4/10\n",
      " - 29s - loss: 0.6495 - accuracy: 0.9954 - val_loss: 7.5458 - val_accuracy: 0.9781\n",
      "Epoch 5/10\n",
      " - 27s - loss: 0.5747 - accuracy: 0.9955 - val_loss: 6.9326 - val_accuracy: 0.9802\n",
      "Epoch 6/10\n",
      " - 30s - loss: 0.4434 - accuracy: 0.9967 - val_loss: 6.9575 - val_accuracy: 0.9795\n",
      "Epoch 7/10\n",
      " - 34s - loss: 0.5015 - accuracy: 0.9964 - val_loss: 7.9115 - val_accuracy: 0.9775\n",
      "Epoch 8/10\n",
      " - 32s - loss: 0.5931 - accuracy: 0.9958 - val_loss: 7.6354 - val_accuracy: 0.9763\n",
      "Epoch 9/10\n",
      " - 26s - loss: 0.5195 - accuracy: 0.9959 - val_loss: 7.3435 - val_accuracy: 0.9781\n",
      "Epoch 10/10\n",
      " - 23s - loss: 0.5084 - accuracy: 0.9961 - val_loss: 7.6924 - val_accuracy: 0.9784\n"
     ]
    },
    {
     "data": {
      "text/plain": [
       "<keras.callbacks.callbacks.History at 0x7fb0a347d4d0>"
      ]
     },
     "execution_count": 19,
     "metadata": {},
     "output_type": "execute_result"
    }
   ],
   "source": [
    "model.fit(X_train, y_train, validation_data=(X_test, y_test), epochs=10, batch_size=200, verbose=2)"
   ]
  },
  {
   "cell_type": "code",
   "execution_count": 20,
   "metadata": {},
   "outputs": [
    {
     "name": "stdout",
     "output_type": "stream",
     "text": [
      "Baseline Error: 2.16%\n"
     ]
    }
   ],
   "source": [
    "scores = model.evaluate(X_test, y_test, verbose=0)\n",
    "print(\"Baseline Error: %.2f%%\" % (100-scores[1]*100))"
   ]
  },
  {
   "cell_type": "code",
   "execution_count": 21,
   "metadata": {},
   "outputs": [],
   "source": [
    "X_train_ZCA, y_train_ZCA, X_test_ZCA, y_test_ZCA = X_train, y_train, X_test, y_test"
   ]
  },
  {
   "cell_type": "markdown",
   "metadata": {},
   "source": [
    "### Random Shifts"
   ]
  },
  {
   "cell_type": "code",
   "execution_count": 22,
   "metadata": {},
   "outputs": [
    {
     "data": {
      "image/png": "[encoded data removed]",
      "text/plain": [
       "<Figure size 432x288 with 9 Axes>"
      ]
     },
     "metadata": {
      "needs_background": "light"
     },
     "output_type": "display_data"
    }
   ],
   "source": [
    "K.image_data_format()\n",
    "# load data\n",
    "(X_train, y_train), (X_test, y_test) = mnist.load_data()\n",
    "# reshape to be [samples][pixels][width][height]\n",
    "X_train = X_train.reshape(X_train.shape[0], 1, 28, 28)\n",
    "X_test = X_test.reshape(X_test.shape[0], 1, 28, 28)\n",
    "# convert from int to float\n",
    "X_train = X_train.astype('float32')\n",
    "X_test = X_test.astype('float32')\n",
    "# define data preparation\n",
    "shift = 0.4\n",
    "datagen = ImageDataGenerator(width_shift_range=shift, height_shift_range=shift)\n",
    "# fit parameters from data\n",
    "datagen.fit(X_train)\n",
    "# configure batch size and retrieve one batch of images\n",
    "for X_batch, y_batch in datagen.flow(X_train, y_train, batch_size=20):\n",
    "\t# create a grid of 3x3 images\n",
    "\tfor i in range(0, 9):\n",
    "\t\tpyplot.subplot(330 + 1 + i)\n",
    "\t\tpyplot.imshow(X_batch[i].reshape(28, 28), cmap=pyplot.get_cmap('gray'))\n",
    "\t# show the plot\n",
    "\tpyplot.show()\n",
    "\tbreak"
   ]
  },
  {
   "cell_type": "code",
   "execution_count": 23,
   "metadata": {},
   "outputs": [],
   "source": [
    "num_pixels = 28*28\n",
    "X_train = X_train.reshape((X_train.shape[0], num_pixels)).astype('float32')\n",
    "X_test = X_test.reshape((X_test.shape[0], num_pixels)).astype('float32')\n",
    "y_train = np_utils.to_categorical(y_train)\n",
    "y_test = np_utils.to_categorical(y_test)\n",
    "num_classes = y_test.shape[1]"
   ]
  },
  {
   "cell_type": "code",
   "execution_count": 24,
   "metadata": {},
   "outputs": [
    {
     "name": "stdout",
     "output_type": "stream",
     "text": [
      "Train on 60000 samples, validate on 10000 samples\n",
      "Epoch 1/10\n",
      " - 31s - loss: 0.5804 - accuracy: 0.9957 - val_loss: 7.1520 - val_accuracy: 0.9805\n",
      "Epoch 2/10\n",
      " - 45s - loss: 0.5815 - accuracy: 0.9958 - val_loss: 7.5158 - val_accuracy: 0.9793\n",
      "Epoch 3/10\n",
      " - 26s - loss: 0.5018 - accuracy: 0.9962 - val_loss: 7.6782 - val_accuracy: 0.9816\n",
      "Epoch 4/10\n",
      " - 23s - loss: 0.4133 - accuracy: 0.9971 - val_loss: 7.3688 - val_accuracy: 0.9792\n",
      "Epoch 5/10\n",
      " - 26s - loss: 0.3985 - accuracy: 0.9969 - val_loss: 8.1368 - val_accuracy: 0.9787\n",
      "Epoch 6/10\n",
      " - 30s - loss: 0.4941 - accuracy: 0.9966 - val_loss: 7.9915 - val_accuracy: 0.9765\n",
      "Epoch 7/10\n",
      " - 33s - loss: 0.4807 - accuracy: 0.9965 - val_loss: 7.8649 - val_accuracy: 0.9783\n",
      "Epoch 8/10\n",
      " - 25s - loss: 0.4373 - accuracy: 0.9969 - val_loss: 7.0558 - val_accuracy: 0.9804\n",
      "Epoch 9/10\n",
      " - 32s - loss: 0.3994 - accuracy: 0.9970 - val_loss: 8.1643 - val_accuracy: 0.9801\n",
      "Epoch 10/10\n",
      " - 48s - loss: 0.4185 - accuracy: 0.9970 - val_loss: 8.2389 - val_accuracy: 0.9788\n"
     ]
    },
    {
     "data": {
      "text/plain": [
       "<keras.callbacks.callbacks.History at 0x7fb004900490>"
      ]
     },
     "execution_count": 24,
     "metadata": {},
     "output_type": "execute_result"
    }
   ],
   "source": [
    "model.fit(X_train, y_train, validation_data=(X_test, y_test), epochs=10, batch_size=200, verbose=2)"
   ]
  },
  {
   "cell_type": "code",
   "execution_count": 25,
   "metadata": {},
   "outputs": [
    {
     "name": "stdout",
     "output_type": "stream",
     "text": [
      "Baseline Error: 2.12%\n"
     ]
    }
   ],
   "source": [
    "scores = model.evaluate(X_test, y_test, verbose=0)\n",
    "print(\"Baseline Error: %.2f%%\" % (100-scores[1]*100))"
   ]
  },
  {
   "cell_type": "markdown",
   "metadata": {},
   "source": [
    "## Juntando todo\n",
    "![title](img/numeritos.png)"
   ]
  },
  {
   "cell_type": "code",
   "execution_count": 26,
   "metadata": {},
   "outputs": [],
   "source": [
    "X_train_shift, y_train_shift, X_test_shift, y_test_shift = X_train, y_train, X_test, y_test"
   ]
  },
  {
   "cell_type": "code",
   "execution_count": 27,
   "metadata": {},
   "outputs": [],
   "source": [
    "X_train_FINAL = np.concatenate((X_train_ref,X_train_shift, X_train_ZCA),axis=0)"
   ]
  },
  {
   "cell_type": "code",
   "execution_count": 28,
   "metadata": {},
   "outputs": [],
   "source": [
    "y_train_FINAL = np.concatenate((y_train_ref, y_train_shift, y_train_ZCA),axis=0)"
   ]
  },
  {
   "cell_type": "code",
   "execution_count": 29,
   "metadata": {},
   "outputs": [],
   "source": [
    "X_test_FINAL = np.concatenate((X_test_ref , X_test_shift , X_test_ZCA),axis=0)"
   ]
  },
  {
   "cell_type": "code",
   "execution_count": 30,
   "metadata": {},
   "outputs": [],
   "source": [
    "y_test_FINAL = np.concatenate((y_test_ref , y_test_shift , y_test_ZCA),axis=0)"
   ]
  },
  {
   "cell_type": "code",
   "execution_count": 31,
   "metadata": {},
   "outputs": [],
   "source": [
    "X = np.concatenate((X_train_FINAL,X_test_FINAL),axis=0)"
   ]
  },
  {
   "cell_type": "code",
   "execution_count": 32,
   "metadata": {},
   "outputs": [],
   "source": [
    "y = np.concatenate((y_train_FINAL, y_test_FINAL),axis=0)"
   ]
  },
  {
   "cell_type": "code",
   "execution_count": 33,
   "metadata": {},
   "outputs": [],
   "source": [
    "X_train, X_test, y_train, y_test = train_test_split(X, y, test_size=0.20, random_state=42)"
   ]
  },
  {
   "cell_type": "code",
   "execution_count": 34,
   "metadata": {},
   "outputs": [
    {
     "name": "stdout",
     "output_type": "stream",
     "text": [
      "Train on 168000 samples, validate on 42000 samples\n",
      "Epoch 1/10\n",
      " - 66s - loss: 0.9030 - accuracy: 0.9940 - val_loss: 0.6259 - val_accuracy: 0.9947\n",
      "Epoch 2/10\n",
      " - 69s - loss: 0.4704 - accuracy: 0.9955 - val_loss: 0.5077 - val_accuracy: 0.9961\n",
      "Epoch 3/10\n",
      " - 73s - loss: 0.3621 - accuracy: 0.9960 - val_loss: 0.6347 - val_accuracy: 0.9949\n",
      "Epoch 4/10\n",
      " - 67s - loss: 0.3516 - accuracy: 0.9960 - val_loss: 0.5094 - val_accuracy: 0.9965\n",
      "Epoch 5/10\n",
      " - 77s - loss: 0.3601 - accuracy: 0.9962 - val_loss: 0.5713 - val_accuracy: 0.9959\n",
      "Epoch 6/10\n",
      " - 75s - loss: 0.3403 - accuracy: 0.9962 - val_loss: 0.6286 - val_accuracy: 0.9951\n",
      "Epoch 7/10\n",
      " - 62s - loss: 0.3595 - accuracy: 0.9963 - val_loss: 0.4694 - val_accuracy: 0.9965\n",
      "Epoch 8/10\n",
      " - 57s - loss: 0.3032 - accuracy: 0.9968 - val_loss: 0.4761 - val_accuracy: 0.9963\n",
      "Epoch 9/10\n",
      " - 57s - loss: 0.2637 - accuracy: 0.9972 - val_loss: 0.6374 - val_accuracy: 0.9950\n",
      "Epoch 10/10\n",
      " - 67s - loss: 0.3366 - accuracy: 0.9966 - val_loss: 0.5319 - val_accuracy: 0.9965\n"
     ]
    },
    {
     "data": {
      "text/plain": [
       "<keras.callbacks.callbacks.History at 0x7fb0a33f9ed0>"
      ]
     },
     "execution_count": 34,
     "metadata": {},
     "output_type": "execute_result"
    }
   ],
   "source": [
    "model.fit(X_train, y_train, validation_data=(X_test, y_test), epochs=10, batch_size=200, verbose=2)"
   ]
  },
  {
   "cell_type": "code",
   "execution_count": 35,
   "metadata": {},
   "outputs": [
    {
     "name": "stdout",
     "output_type": "stream",
     "text": [
      "Baseline Error: 0.35%\n"
     ]
    }
   ],
   "source": [
    "scores = model.evaluate(X_test, y_test, verbose=0)\n",
    "print(\"Baseline Error: %.2f%%\" % (100-scores[1]*100))"
   ]
  },
  {
   "cell_type": "markdown",
   "metadata": {},
   "source": [
    "![title](img/rick.png)\n"
   ]
  },
  {
   "cell_type": "code",
   "execution_count": null,
   "metadata": {},
   "outputs": [],
   "source": []
  }
 ],
 "metadata": {
  "kernelspec": {
   "display_name": "Python 3",
   "language": "python",
   "name": "python3"
  },
  "language_info": {
   "codemirror_mode": {
    "name": "ipython",
    "version": 3
   },
   "file_extension": ".py",
   "mimetype": "text/x-python",
   "name": "python",
   "nbconvert_exporter": "python",
   "pygments_lexer": "ipython3",
   "version": "3.7.7"
  }
 },
 "nbformat": 4,
 "nbformat_minor": 4
}
