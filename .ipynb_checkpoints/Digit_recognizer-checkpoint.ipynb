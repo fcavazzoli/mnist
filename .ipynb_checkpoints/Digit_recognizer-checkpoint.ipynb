{
 "cells": [
  {
   "cell_type": "markdown",
   "metadata": {},
   "source": [
    "# Data Augmentation"
   ]
  },
  {
   "cell_type": "markdown",
   "metadata": {},
   "source": [
    "## Que es ?\n",
    "  Son una serie de tecnicas destinadas a aumentar la cantidad de datos disponibles para entrenar distintos algoritmos de Machine Learning."
   ]
  },
  {
   "cell_type": "markdown",
   "metadata": {},
   "source": [
    "## Por que es util ?\n",
    " - Aumentan la cantidad de datos disponibles para entrenar un algoritmo, bien utilizada esta tecnica nos ayuda a:\n",
    "        - Prevenir el overfitting: Al tener una mayor cantidad de casos de \"estudio\" para nuestro algoritmo, este va a aprender a diferenciar una mayor cantidad de casos posibles. Pero con la diferencia de que estos nuevos datos pueden ser movificados a nuestro gusto, por ejemplo: Podemos añadir distorsion a un determinado grupo de imagenes o tambien rotarlas.\n",
    "        - Agilizar la implementacion: Como estas tecnicas son aplicadas sobre datos que ya tenemos clasificados, su nueva permutacion se espera que tenga la misma clasificacion. De esta manera si aplicamos a cada imagen de un grupo de 100 un efecto de distorsion y lo añadimos a nuestro dataset, estamos duplicando el tamaño del set de entrenamiento."
   ]
  },
  {
   "cell_type": "markdown",
   "metadata": {},
   "source": [
    "## Ejemplo: "
   ]
  },
  {
   "cell_type": "markdown",
   "metadata": {},
   "source": [
    "Para la prueba vamos a utilizar un dataset muy conocido llamado Minst. El cual contiene miles de digitos del 0 al 9 y el objetivo es obviamente, clasificar las imagenes."
   ]
  },
  {
   "cell_type": "markdown",
   "metadata": {},
   "source": [
    "### Implementacion:\n",
    " - Keras: Libreria que usamos para crear una red neuronal y ademas utilizar herramientas de pre-procesamiento (usan de fondo TensorFlow)\n",
    " - sklearn: Libreria con multiples herramientas para tratar la data a entrenar (ademas posee algorimos de Machine Learning, incluso una version reducida de una red neuronal)\n",
    " - Pandas: Libreria que usamos para leer el dataset que tiene formato CSV y pasamos a formato DataFrame para poder trabajarlo.\n",
    " - Numpy: Libreria por excelencia para hacer cuentas en Python\n",
    " - matPlotLib: Libreria para graficar"
   ]
  },
  {
   "cell_type": "code",
   "execution_count": 185,
   "metadata": {},
   "outputs": [],
   "source": [
    "import pandas as pd\n",
    "import numpy as np\n",
    "from keras.datasets import mnist\n",
    "from keras.models import Sequential\n",
    "from keras.layers import Dense\n",
    "from keras.utils import np_utils\n",
    "from matplotlib import pyplot\n",
    "import pandas as pd\n",
    "from sklearn.model_selection import train_test_split\n",
    "from keras.datasets import mnist\n",
    "from keras.preprocessing.image import ImageDataGenerator\n",
    "from matplotlib import pyplot\n",
    "from keras import backend as K"
   ]
  },
  {
   "cell_type": "markdown",
   "metadata": {},
   "source": [
    "Leemos los datos de los datasets y los guardamos como DataFrames"
   ]
  },
  {
   "cell_type": "code",
   "execution_count": 186,
   "metadata": {},
   "outputs": [],
   "source": [
    "(X_train, y_train), (X_test, y_test) = mnist.load_data()"
   ]
  },
  {
   "cell_type": "markdown",
   "metadata": {},
   "source": [
    "Definimos el tamaño que tienen nuestras imagenes\n",
    "Es un vector de 28*28 = 784 para cada imagen"
   ]
  },
  {
   "cell_type": "code",
   "execution_count": 187,
   "metadata": {},
   "outputs": [],
   "source": [
    "num_pixels = X_train.shape[1] * X_train.shape[2]\n",
    "X_train = X_train.reshape((X_train.shape[0], num_pixels)).astype('float32')\n",
    "X_test = X_test.reshape((X_test.shape[0], num_pixels)).astype('float32')"
   ]
  },
  {
   "cell_type": "markdown",
   "metadata": {},
   "source": [
    "Normalizamos los datos (que van originalmente de 0 a 255)"
   ]
  },
  {
   "cell_type": "code",
   "execution_count": 188,
   "metadata": {},
   "outputs": [],
   "source": [
    "X_train = X_train / 255\n",
    "X_test = X_test / 255"
   ]
  },
  {
   "cell_type": "markdown",
   "metadata": {},
   "source": [
    "Configuramos los valores de salida, van del 0 al 9 entonces usamos 10 columnas y le ponemos un 1 al valor que corresponda"
   ]
  },
  {
   "cell_type": "code",
   "execution_count": 189,
   "metadata": {},
   "outputs": [],
   "source": [
    "y_train = np_utils.to_categorical(y_train)\n",
    "y_test = np_utils.to_categorical(y_test)\n",
    "num_classes = y_test.shape[1]"
   ]
  },
  {
   "cell_type": "markdown",
   "metadata": {},
   "source": [
    "Definimos un modelo, es decir las capas que tendra nuestra red neuronal."
   ]
  },
  {
   "cell_type": "code",
   "execution_count": 190,
   "metadata": {},
   "outputs": [],
   "source": [
    "def baseline_model():\n",
    "\tmodel = Sequential()\n",
    "\tmodel.add(Dense(num_pixels, input_dim=num_pixels, kernel_initializer='normal', activation='relu'))\n",
    "\tmodel.add(Dense(num_classes, kernel_initializer='normal', activation='softmax'))\n",
    "\tmodel.compile(loss='categorical_crossentropy', optimizer='adam', metrics=['accuracy'])\n",
    "\treturn model"
   ]
  },
  {
   "cell_type": "markdown",
   "metadata": {},
   "source": [
    "Llamamos a la funcion que crea el modelo"
   ]
  },
  {
   "cell_type": "code",
   "execution_count": 191,
   "metadata": {},
   "outputs": [],
   "source": [
    "model = baseline_model()"
   ]
  },
  {
   "cell_type": "markdown",
   "metadata": {},
   "source": [
    "Entrenamos el modelo con parametros estandar:"
   ]
  },
  {
   "cell_type": "code",
   "execution_count": 192,
   "metadata": {},
   "outputs": [
    {
     "name": "stdout",
     "output_type": "stream",
     "text": [
      "Train on 60000 samples, validate on 10000 samples\n",
      "Epoch 1/10\n",
      " - 5s - loss: 0.2858 - accuracy: 0.9188 - val_loss: 0.1385 - val_accuracy: 0.9567\n",
      "Epoch 2/10\n",
      " - 4s - loss: 0.1107 - accuracy: 0.9685 - val_loss: 0.0960 - val_accuracy: 0.9702\n",
      "Epoch 3/10\n",
      " - 5s - loss: 0.0712 - accuracy: 0.9792 - val_loss: 0.0880 - val_accuracy: 0.9733\n",
      "Epoch 4/10\n",
      " - 6s - loss: 0.0498 - accuracy: 0.9857 - val_loss: 0.0717 - val_accuracy: 0.9781\n",
      "Epoch 5/10\n",
      " - 7s - loss: 0.0362 - accuracy: 0.9898 - val_loss: 0.0635 - val_accuracy: 0.9797\n",
      "Epoch 6/10\n",
      " - 6s - loss: 0.0270 - accuracy: 0.9927 - val_loss: 0.0628 - val_accuracy: 0.9807\n",
      "Epoch 7/10\n",
      " - 5s - loss: 0.0192 - accuracy: 0.9955 - val_loss: 0.0697 - val_accuracy: 0.9789\n",
      "Epoch 8/10\n",
      " - 5s - loss: 0.0144 - accuracy: 0.9967 - val_loss: 0.0601 - val_accuracy: 0.9824\n",
      "Epoch 9/10\n",
      " - 5s - loss: 0.0107 - accuracy: 0.9979 - val_loss: 0.0635 - val_accuracy: 0.9811\n",
      "Epoch 10/10\n",
      " - 5s - loss: 0.0087 - accuracy: 0.9984 - val_loss: 0.0657 - val_accuracy: 0.9806\n"
     ]
    },
    {
     "data": {
      "text/plain": [
       "<keras.callbacks.callbacks.History at 0x7fad15325950>"
      ]
     },
     "execution_count": 192,
     "metadata": {},
     "output_type": "execute_result"
    }
   ],
   "source": [
    "model.fit(X_train, y_train, validation_data=(X_test, y_test), epochs=10, batch_size=200, verbose=2)"
   ]
  },
  {
   "cell_type": "markdown",
   "metadata": {},
   "source": [
    "Evaluamos el resultado:"
   ]
  },
  {
   "cell_type": "code",
   "execution_count": 193,
   "metadata": {},
   "outputs": [
    {
     "name": "stdout",
     "output_type": "stream",
     "text": [
      "Baseline Error: 1.94%\n"
     ]
    }
   ],
   "source": [
    "scores = model.evaluate(X_test, y_test, verbose=0)\n",
    "print(\"Baseline Error: %.2f%%\" % (100-scores[1]*100))"
   ]
  },
  {
   "cell_type": "code",
   "execution_count": 194,
   "metadata": {},
   "outputs": [],
   "source": [
    "X_train_ref, y_train_ref, X_test_ref, y_test_ref = X_train, y_train, X_test, y_test"
   ]
  },
  {
   "cell_type": "markdown",
   "metadata": {},
   "source": [
    "## Aumentando nuestro Dataset"
   ]
  },
  {
   "cell_type": "markdown",
   "metadata": {},
   "source": [
    "Vamos a tomar por ejemplo la primera fila de nuestro dataset y vamos a plotearla para ver de que numero se trata:"
   ]
  },
  {
   "cell_type": "code",
   "execution_count": 195,
   "metadata": {},
   "outputs": [],
   "source": [
    "train_set = pd.read_csv(\"datasets/train.csv\")\n",
    "test_set = pd.read_csv(\"datasets/test.csv\")"
   ]
  },
  {
   "cell_type": "code",
   "execution_count": 196,
   "metadata": {},
   "outputs": [],
   "source": [
    "train_info = train_set.loc[:, train_set.columns != 'label']\n",
    "test_info = test_set.loc[:, test_set.columns != 'label']\n",
    "train, test = train_test_split(train_set, test_size=0.2)\n",
    "train_label = train.label\n",
    "test_label = test.label\n",
    "train_info = train.loc[:, train.columns != 'label']\n",
    "test_info = test.loc[:, test.columns != 'label']"
   ]
  },
  {
   "cell_type": "code",
   "execution_count": 197,
   "metadata": {},
   "outputs": [
    {
     "data": {
      "image/png": "[encoded data removed]",
      "text/plain": [
       "<Figure size 432x288 with 9 Axes>"
      ]
     },
     "metadata": {
      "needs_background": "light"
     },
     "output_type": "display_data"
    }
   ],
   "source": [
    "for i in range(0, 9):\n",
    "    pyplot.subplot(330 + 1 + i)\n",
    "    train_info = train_set.loc[:, train_set.columns != 'label']\n",
    "    pyplot.imshow(train_info[i:i+1].values.reshape(28,28), cmap=pyplot.get_cmap('gray'))\n",
    "pyplot.show()"
   ]
  },
  {
   "cell_type": "markdown",
   "metadata": {},
   "source": [
    "### ZCA Whitening"
   ]
  },
  {
   "cell_type": "code",
   "execution_count": 198,
   "metadata": {},
   "outputs": [
    {
     "name": "stderr",
     "output_type": "stream",
     "text": [
      "/Users/federicocavazzoli/opt/anaconda3/envs/Fede/lib/python3.7/site-packages/keras_preprocessing/image/image_data_generator.py:336: UserWarning: This ImageDataGenerator specifies `zca_whitening`, which overrides setting of `featurewise_center`.\n",
      "  warnings.warn('This ImageDataGenerator specifies '\n",
      "/Users/federicocavazzoli/opt/anaconda3/envs/Fede/lib/python3.7/site-packages/keras_preprocessing/image/image_data_generator.py:940: UserWarning: Expected input to be images (as Numpy array) following the data format convention \"channels_last\" (channels on axis 3), i.e. expected either 1, 3 or 4 channels on axis 3. However, it was passed an array with shape (60000, 1, 28, 28) (28 channels).\n",
      "  ' channels).')\n",
      "/Users/federicocavazzoli/opt/anaconda3/envs/Fede/lib/python3.7/site-packages/keras_preprocessing/image/numpy_array_iterator.py:127: UserWarning: NumpyArrayIterator is set to use the data format convention \"channels_last\" (channels on axis 3), i.e. expected either 1, 3, or 4 channels on axis 3. However, it was passed an array with shape (60000, 1, 28, 28) (28 channels).\n",
      "  str(self.x.shape[channels_axis]) + ' channels).')\n"
     ]
    },
    {
     "data": {
      "image/png": "[encoded data removed]",
      "text/plain": [
       "<Figure size 432x288 with 9 Axes>"
      ]
     },
     "metadata": {
      "needs_background": "light"
     },
     "output_type": "display_data"
    }
   ],
   "source": [
    "K.image_data_format()\n",
    "# load data\n",
    "(X_train, y_train), (X_test, y_test) = mnist.load_data()\n",
    "# reshape to be [samples][pixels][width][height]\n",
    "X_train = X_train.reshape(X_train.shape[0], 1, 28, 28)\n",
    "X_test = X_test.reshape(X_test.shape[0], 1, 28, 28)\n",
    "# convert from int to float\n",
    "X_train = X_train.astype('float32')\n",
    "X_test = X_test.astype('float32')\n",
    "# define data preparation\n",
    "datagen = ImageDataGenerator(zca_whitening=True)\n",
    "# fit parameters from data\n",
    "datagen.fit(X_train)\n",
    "# configure batch size and retrieve one batch of images\n",
    "for X_batch, y_batch in datagen.flow(X_train, y_train, batch_size=9):\n",
    "\t# create a grid of 3x3 images\n",
    "\tfor i in range(0, 9):\n",
    "\t\tpyplot.subplot(330 + 1 + i)\n",
    "\t\tpyplot.imshow(X_batch[i].reshape(28, 28), cmap=pyplot.get_cmap('gray'))\n",
    "\t# show the plot\n",
    "\tpyplot.show()\n",
    "\tbreak"
   ]
  },
  {
   "cell_type": "code",
   "execution_count": 199,
   "metadata": {},
   "outputs": [],
   "source": [
    "num_pixels = 28*28\n",
    "X_train = X_train.reshape((X_train.shape[0], num_pixels)).astype('float32')\n",
    "X_test = X_test.reshape((X_test.shape[0], num_pixels)).astype('float32')\n",
    "y_train = np_utils.to_categorical(y_train)\n",
    "y_test = np_utils.to_categorical(y_test)\n",
    "num_classes = y_test.shape[1]"
   ]
  },
  {
   "cell_type": "code",
   "execution_count": 200,
   "metadata": {},
   "outputs": [
    {
     "name": "stdout",
     "output_type": "stream",
     "text": [
      "Train on 60000 samples, validate on 10000 samples\n",
      "Epoch 1/10\n",
      " - 5s - loss: 7.6953 - accuracy: 0.9797 - val_loss: 9.5936 - val_accuracy: 0.9737\n",
      "Epoch 2/10\n",
      " - 5s - loss: 1.4574 - accuracy: 0.9917 - val_loss: 9.1206 - val_accuracy: 0.9756\n",
      "Epoch 3/10\n",
      " - 5s - loss: 0.9724 - accuracy: 0.9936 - val_loss: 7.7656 - val_accuracy: 0.9803\n",
      "Epoch 4/10\n",
      " - 5s - loss: 0.6333 - accuracy: 0.9952 - val_loss: 7.6982 - val_accuracy: 0.9779\n",
      "Epoch 5/10\n",
      " - 5s - loss: 0.4885 - accuracy: 0.9961 - val_loss: 8.2032 - val_accuracy: 0.9765\n",
      "Epoch 6/10\n",
      " - 6s - loss: 0.5646 - accuracy: 0.9958 - val_loss: 7.7002 - val_accuracy: 0.9796\n",
      "Epoch 7/10\n",
      " - 5s - loss: 0.5019 - accuracy: 0.9961 - val_loss: 7.7465 - val_accuracy: 0.9785\n",
      "Epoch 8/10\n",
      " - 5s - loss: 0.5987 - accuracy: 0.9957 - val_loss: 7.1646 - val_accuracy: 0.9783\n",
      "Epoch 9/10\n",
      " - 5s - loss: 0.6376 - accuracy: 0.9958 - val_loss: 7.3693 - val_accuracy: 0.9793\n",
      "Epoch 10/10\n",
      " - 5s - loss: 0.4335 - accuracy: 0.9966 - val_loss: 6.9563 - val_accuracy: 0.9802\n"
     ]
    },
    {
     "data": {
      "text/plain": [
       "<keras.callbacks.callbacks.History at 0x7fae833bded0>"
      ]
     },
     "execution_count": 200,
     "metadata": {},
     "output_type": "execute_result"
    }
   ],
   "source": [
    "model.fit(X_train, y_train, validation_data=(X_test, y_test), epochs=10, batch_size=200, verbose=2)"
   ]
  },
  {
   "cell_type": "code",
   "execution_count": 201,
   "metadata": {},
   "outputs": [
    {
     "name": "stdout",
     "output_type": "stream",
     "text": [
      "Baseline Error: 1.98%\n"
     ]
    }
   ],
   "source": [
    "scores = model.evaluate(X_test, y_test, verbose=0)\n",
    "print(\"Baseline Error: %.2f%%\" % (100-scores[1]*100))"
   ]
  },
  {
   "cell_type": "code",
   "execution_count": 202,
   "metadata": {},
   "outputs": [],
   "source": [
    "X_train_ZCA, y_train_ZCA, X_test_ZCA, y_test_ZCA = X_train, y_train, X_test, y_test"
   ]
  },
  {
   "cell_type": "markdown",
   "metadata": {},
   "source": [
    "### Random Shifts"
   ]
  },
  {
   "cell_type": "code",
   "execution_count": 203,
   "metadata": {},
   "outputs": [
    {
     "data": {
      "image/png": "[encoded data removed]",
      "text/plain": [
       "<Figure size 432x288 with 9 Axes>"
      ]
     },
     "metadata": {
      "needs_background": "light"
     },
     "output_type": "display_data"
    }
   ],
   "source": [
    "K.image_data_format()\n",
    "# load data\n",
    "(X_train, y_train), (X_test, y_test) = mnist.load_data()\n",
    "# reshape to be [samples][pixels][width][height]\n",
    "X_train = X_train.reshape(X_train.shape[0], 1, 28, 28)\n",
    "X_test = X_test.reshape(X_test.shape[0], 1, 28, 28)\n",
    "# convert from int to float\n",
    "X_train = X_train.astype('float32')\n",
    "X_test = X_test.astype('float32')\n",
    "# define data preparation\n",
    "shift = 0.4\n",
    "datagen = ImageDataGenerator(width_shift_range=shift, height_shift_range=shift)\n",
    "# fit parameters from data\n",
    "datagen.fit(X_train)\n",
    "# configure batch size and retrieve one batch of images\n",
    "for X_batch, y_batch in datagen.flow(X_train, y_train, batch_size=20):\n",
    "\t# create a grid of 3x3 images\n",
    "\tfor i in range(0, 9):\n",
    "\t\tpyplot.subplot(330 + 1 + i)\n",
    "\t\tpyplot.imshow(X_batch[i].reshape(28, 28), cmap=pyplot.get_cmap('gray'))\n",
    "\t# show the plot\n",
    "\tpyplot.show()\n",
    "\tbreak"
   ]
  },
  {
   "cell_type": "code",
   "execution_count": 204,
   "metadata": {},
   "outputs": [],
   "source": [
    "num_pixels = 28*28\n",
    "X_train = X_train.reshape((X_train.shape[0], num_pixels)).astype('float32')\n",
    "X_test = X_test.reshape((X_test.shape[0], num_pixels)).astype('float32')\n",
    "y_train = np_utils.to_categorical(y_train)\n",
    "y_test = np_utils.to_categorical(y_test)\n",
    "num_classes = y_test.shape[1]"
   ]
  },
  {
   "cell_type": "code",
   "execution_count": 205,
   "metadata": {},
   "outputs": [
    {
     "data": {
      "text/plain": [
       "(60000, 784)"
      ]
     },
     "execution_count": 205,
     "metadata": {},
     "output_type": "execute_result"
    }
   ],
   "source": [
    "X_train.shape"
   ]
  },
  {
   "cell_type": "code",
   "execution_count": 206,
   "metadata": {},
   "outputs": [
    {
     "name": "stdout",
     "output_type": "stream",
     "text": [
      "Train on 60000 samples, validate on 10000 samples\n",
      "Epoch 1/10\n",
      " - 5s - loss: 0.4874 - accuracy: 0.9961 - val_loss: 7.9443 - val_accuracy: 0.9786\n",
      "Epoch 2/10\n",
      " - 5s - loss: 0.4677 - accuracy: 0.9964 - val_loss: 7.0138 - val_accuracy: 0.9812\n",
      "Epoch 3/10\n",
      " - 6s - loss: 0.5096 - accuracy: 0.9960 - val_loss: 7.9197 - val_accuracy: 0.9774\n",
      "Epoch 4/10\n",
      " - 6s - loss: 0.4019 - accuracy: 0.9969 - val_loss: 7.4235 - val_accuracy: 0.9804\n",
      "Epoch 5/10\n",
      " - 5s - loss: 0.4170 - accuracy: 0.9965 - val_loss: 8.8395 - val_accuracy: 0.9756\n",
      "Epoch 6/10\n",
      " - 5s - loss: 0.5871 - accuracy: 0.9957 - val_loss: 9.8280 - val_accuracy: 0.9748\n",
      "Epoch 7/10\n",
      " - 5s - loss: 0.4734 - accuracy: 0.9965 - val_loss: 6.9832 - val_accuracy: 0.9806\n",
      "Epoch 8/10\n",
      " - 5s - loss: 0.3329 - accuracy: 0.9975 - val_loss: 7.0721 - val_accuracy: 0.9812\n",
      "Epoch 9/10\n",
      " - 5s - loss: 0.3487 - accuracy: 0.9972 - val_loss: 8.0503 - val_accuracy: 0.9803\n",
      "Epoch 10/10\n",
      " - 5s - loss: 0.4227 - accuracy: 0.9970 - val_loss: 7.5749 - val_accuracy: 0.9798\n"
     ]
    },
    {
     "data": {
      "text/plain": [
       "<keras.callbacks.callbacks.History at 0x7fae839f6ad0>"
      ]
     },
     "execution_count": 206,
     "metadata": {},
     "output_type": "execute_result"
    }
   ],
   "source": [
    "model.fit(X_train, y_train, validation_data=(X_test, y_test), epochs=10, batch_size=200, verbose=2)"
   ]
  },
  {
   "cell_type": "code",
   "execution_count": 207,
   "metadata": {},
   "outputs": [
    {
     "name": "stdout",
     "output_type": "stream",
     "text": [
      "Baseline Error: 2.02%\n"
     ]
    }
   ],
   "source": [
    "scores = model.evaluate(X_test, y_test, verbose=0)\n",
    "print(\"Baseline Error: %.2f%%\" % (100-scores[1]*100))"
   ]
  },
  {
   "cell_type": "code",
   "execution_count": 208,
   "metadata": {},
   "outputs": [],
   "source": [
    "X_train_shift, y_train_shift, X_test_shift, y_test_shift = X_train, y_train, X_test, y_test"
   ]
  },
  {
   "cell_type": "code",
   "execution_count": 209,
   "metadata": {},
   "outputs": [],
   "source": [
    "X_train_FINAL = np.concatenate((X_train_ref,X_train_shift, X_train_ZCA),axis=0)"
   ]
  },
  {
   "cell_type": "code",
   "execution_count": 210,
   "metadata": {},
   "outputs": [],
   "source": [
    "y_train_FINAL = np.concatenate((y_train_ref, y_train_shift, y_train_ZCA),axis=0)"
   ]
  },
  {
   "cell_type": "code",
   "execution_count": 211,
   "metadata": {},
   "outputs": [],
   "source": [
    "X_test_FINAL = np.concatenate((X_test_ref , X_test_shift , X_test_ZCA),axis=0)"
   ]
  },
  {
   "cell_type": "code",
   "execution_count": 212,
   "metadata": {},
   "outputs": [],
   "source": [
    "y_test_FINAL = np.concatenate((y_test_ref , y_test_shift , y_test_ZCA),axis=0)"
   ]
  },
  {
   "cell_type": "code",
   "execution_count": 213,
   "metadata": {},
   "outputs": [],
   "source": [
    "X = np.concatenate((X_train_FINAL,X_test_FINAL),axis=0)"
   ]
  },
  {
   "cell_type": "code",
   "execution_count": 214,
   "metadata": {},
   "outputs": [],
   "source": [
    "y = np.concatenate((y_train_FINAL, y_test_FINAL),axis=0)"
   ]
  },
  {
   "cell_type": "code",
   "execution_count": 215,
   "metadata": {},
   "outputs": [],
   "source": [
    "X_train, X_test, y_train, y_test = train_test_split(X, y, test_size=0.20, random_state=42)"
   ]
  },
  {
   "cell_type": "code",
   "execution_count": null,
   "metadata": {},
   "outputs": [],
   "source": []
  },
  {
   "cell_type": "code",
   "execution_count": 216,
   "metadata": {},
   "outputs": [],
   "source": [
    "# num_pixels = 28*28\n",
    "# X_train = X_train.reshape((X_train.shape[0], num_pixels)).astype('float32')\n",
    "# X_test = X_test.reshape((X_test.shape[0], num_pixels)).astype('float32')\n",
    "# y_train = np_utils.to_categorical(y_train)\n",
    "# y_test = np_utils.to_categorical(y_test)\n",
    "# num_classes = y_test.shape[1]"
   ]
  },
  {
   "cell_type": "code",
   "execution_count": 217,
   "metadata": {},
   "outputs": [
    {
     "name": "stdout",
     "output_type": "stream",
     "text": [
      "Train on 168000 samples, validate on 42000 samples\n",
      "Epoch 1/10\n",
      " - 14s - loss: 0.9041 - accuracy: 0.9935 - val_loss: 0.6375 - val_accuracy: 0.9952\n",
      "Epoch 2/10\n",
      " - 15s - loss: 0.4496 - accuracy: 0.9951 - val_loss: 0.9404 - val_accuracy: 0.9937\n",
      "Epoch 3/10\n",
      " - 15s - loss: 0.4353 - accuracy: 0.9956 - val_loss: 0.9315 - val_accuracy: 0.9930\n",
      "Epoch 4/10\n",
      " - 15s - loss: 0.3649 - accuracy: 0.9961 - val_loss: 0.7594 - val_accuracy: 0.9947\n",
      "Epoch 5/10\n",
      " - 16s - loss: 0.4229 - accuracy: 0.9957 - val_loss: 0.6398 - val_accuracy: 0.9956\n",
      "Epoch 6/10\n",
      " - 16s - loss: 0.2750 - accuracy: 0.9967 - val_loss: 0.2897 - val_accuracy: 0.9974\n",
      "Epoch 7/10\n",
      " - 14s - loss: 0.2790 - accuracy: 0.9967 - val_loss: 0.4959 - val_accuracy: 0.9957\n",
      "Epoch 8/10\n",
      " - 14s - loss: 0.3325 - accuracy: 0.9964 - val_loss: 0.6135 - val_accuracy: 0.9956\n",
      "Epoch 9/10\n",
      " - 15s - loss: 0.3647 - accuracy: 0.9961 - val_loss: 0.6538 - val_accuracy: 0.9951\n",
      "Epoch 10/10\n",
      " - 14s - loss: 0.2633 - accuracy: 0.9969 - val_loss: 0.5886 - val_accuracy: 0.9963\n"
     ]
    },
    {
     "data": {
      "text/plain": [
       "<keras.callbacks.callbacks.History at 0x7fae83255fd0>"
      ]
     },
     "execution_count": 217,
     "metadata": {},
     "output_type": "execute_result"
    }
   ],
   "source": [
    "model.fit(X_train, y_train, validation_data=(X_test, y_test), epochs=10, batch_size=200, verbose=2)"
   ]
  },
  {
   "cell_type": "code",
   "execution_count": 218,
   "metadata": {},
   "outputs": [
    {
     "name": "stdout",
     "output_type": "stream",
     "text": [
      "Baseline Error: 0.37%\n"
     ]
    }
   ],
   "source": [
    "scores = model.evaluate(X_test, y_test, verbose=0)\n",
    "print(\"Baseline Error: %.2f%%\" % (100-scores[1]*100))"
   ]
  },
  {
   "cell_type": "code",
   "execution_count": 219,
   "metadata": {},
   "outputs": [],
   "source": [
    "from IPython.display import Image\n"
   ]
  },
  {
   "cell_type": "markdown",
   "metadata": {},
   "source": [
    "![title](img/rick.png)\n"
   ]
  },
  {
   "cell_type": "code",
   "execution_count": null,
   "metadata": {},
   "outputs": [],
   "source": []
  }
 ],
 "metadata": {
  "kernelspec": {
   "display_name": "Python 3",
   "language": "python",
   "name": "python3"
  },
  "language_info": {
   "codemirror_mode": {
    "name": "ipython",
    "version": 3
   },
   "file_extension": ".py",
   "mimetype": "text/x-python",
   "name": "python",
   "nbconvert_exporter": "python",
   "pygments_lexer": "ipython3",
   "version": "3.7.7"
  }
 },
 "nbformat": 4,
 "nbformat_minor": 4
}
